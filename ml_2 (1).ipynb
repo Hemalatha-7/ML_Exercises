{
  "nbformat": 4,
  "nbformat_minor": 0,
  "metadata": {
    "colab": {
      "provenance": []
    },
    "kernelspec": {
      "name": "python3",
      "display_name": "Python 3"
    },
    "language_info": {
      "name": "python"
    }
  },
  "cells": [
    {
      "cell_type": "code",
      "execution_count": 1,
      "metadata": {
        "id": "eCTottF7iHr6"
      },
      "outputs": [],
      "source": [
        "import numpy as np\n",
        "import pandas as pd"
      ]
    },
    {
      "cell_type": "code",
      "source": [
        "data=pd.read_csv(\"/content/data (3).csv\")\n",
        "concepts=np.array(data.iloc[:,0:-1])\n",
        "print(concepts)\n",
        "target=np.array(data.iloc[:,-1])\n",
        "print(target)"
      ],
      "metadata": {
        "colab": {
          "base_uri": "https://localhost:8080/"
        },
        "id": "RAahJapaiVmE",
        "outputId": "e6c58bf6-64ce-4ea8-ccd6-e9a24ea64e7a"
      },
      "execution_count": 2,
      "outputs": [
        {
          "output_type": "stream",
          "name": "stdout",
          "text": [
            "[['sunny' 'warm' 'normal' 'strong' 'warm' 'same']\n",
            " ['sunny' 'warm' 'high' 'strong' 'warm' 'same']\n",
            " ['rainy' 'cold' 'high' 'strong' 'warm' 'change']\n",
            " ['sunny' 'warm' 'high' 'strong' 'cool' 'change']]\n",
            "['yes' 'yes' 'no' 'yes']\n"
          ]
        }
      ]
    },
    {
      "cell_type": "code",
      "source": [
        "def learn(concepts,target):\n",
        "  specific_hypothesis=concepts[0].copy()\n",
        "  print(\"initialization of specific_hypothesis and general_hypothesis\")\n",
        "  print(specific_hypothesis)\n",
        "  general_hypothesis=[[\"?\" for i in range(len(specific_hypothesis))] for i in range(len(specific_hypothesis))]\n",
        "  print(general_hypothesis)\n",
        "  for i,h in enumerate(concepts):\n",
        "    print(\"for loop starts\")\n",
        "    if target[i]==\"yes\":\n",
        "      print(\"if instance is positive\")\n",
        "      for x in range(len(specific_hypothesis)):\n",
        "        if h[x]!=specific_hypothesis[x]:\n",
        "          specific_hypothesis[x]='?'\n",
        "          general_hypothesis[x][x]='?'\n",
        "    if target[i]==\"no\":\n",
        "      print(\"if instance is negative\")\n",
        "      for x in range(len(specific_hypothesis)):\n",
        "        if h[x]!=specific_hypothesis[x]:\n",
        "          general_hypothesis[x][x]=specific_hypothesis[x]\n",
        "        else:\n",
        "              general_hypothesis[x][x]='?'\n",
        "    print(\"steps of candidate elimination algorithm\",i+1)\n",
        "    print(specific_hypothesis)\n",
        "    print(general_hypothesis)\n",
        "    print(\"\\n\")\n",
        "    print(\"\\n\")\n",
        "  indices = [i for i, val in enumerate(general_hypothesis) if val == ['?', '?', '?', '?', '?', '?']]\n",
        "  for i in indices:\n",
        "    general_hypothesis.remove(['?', '?', '?', '?', '?', '?'])\n",
        "  return specific_hypothesis, general_hypothesis\n",
        "s_final, g_final = learn(concepts, target)\n",
        "print(\"Final Specific_Hypothesis:\", s_final, sep=\"\\n\")\n",
        "print(\"Final General_Hypothesis:\", g_final, sep=\"\\n\")\n"
      ],
      "metadata": {
        "colab": {
          "base_uri": "https://localhost:8080/"
        },
        "id": "-UN7xmlyiwpc",
        "outputId": "c044d1b7-3610-4e01-f086-06cbe8e053d1"
      },
      "execution_count": 4,
      "outputs": [
        {
          "output_type": "stream",
          "name": "stdout",
          "text": [
            "initialization of specific_hypothesis and general_hypothesis\n",
            "['sunny' 'warm' 'normal' 'strong' 'warm' 'same']\n",
            "[['?', '?', '?', '?', '?', '?'], ['?', '?', '?', '?', '?', '?'], ['?', '?', '?', '?', '?', '?'], ['?', '?', '?', '?', '?', '?'], ['?', '?', '?', '?', '?', '?'], ['?', '?', '?', '?', '?', '?']]\n",
            "for loop starts\n",
            "if instance is positive\n",
            "steps of candidate elimination algorithm 1\n",
            "['sunny' 'warm' 'normal' 'strong' 'warm' 'same']\n",
            "[['?', '?', '?', '?', '?', '?'], ['?', '?', '?', '?', '?', '?'], ['?', '?', '?', '?', '?', '?'], ['?', '?', '?', '?', '?', '?'], ['?', '?', '?', '?', '?', '?'], ['?', '?', '?', '?', '?', '?']]\n",
            "\n",
            "\n",
            "\n",
            "\n",
            "for loop starts\n",
            "if instance is positive\n",
            "steps of candidate elimination algorithm 2\n",
            "['sunny' 'warm' '?' 'strong' 'warm' 'same']\n",
            "[['?', '?', '?', '?', '?', '?'], ['?', '?', '?', '?', '?', '?'], ['?', '?', '?', '?', '?', '?'], ['?', '?', '?', '?', '?', '?'], ['?', '?', '?', '?', '?', '?'], ['?', '?', '?', '?', '?', '?']]\n",
            "\n",
            "\n",
            "\n",
            "\n",
            "for loop starts\n",
            "if instance is negative\n",
            "steps of candidate elimination algorithm 3\n",
            "['sunny' 'warm' '?' 'strong' 'warm' 'same']\n",
            "[['sunny', '?', '?', '?', '?', '?'], ['?', 'warm', '?', '?', '?', '?'], ['?', '?', '?', '?', '?', '?'], ['?', '?', '?', '?', '?', '?'], ['?', '?', '?', '?', '?', '?'], ['?', '?', '?', '?', '?', 'same']]\n",
            "\n",
            "\n",
            "\n",
            "\n",
            "for loop starts\n",
            "if instance is positive\n",
            "steps of candidate elimination algorithm 4\n",
            "['sunny' 'warm' '?' 'strong' '?' '?']\n",
            "[['sunny', '?', '?', '?', '?', '?'], ['?', 'warm', '?', '?', '?', '?'], ['?', '?', '?', '?', '?', '?'], ['?', '?', '?', '?', '?', '?'], ['?', '?', '?', '?', '?', '?'], ['?', '?', '?', '?', '?', '?']]\n",
            "\n",
            "\n",
            "\n",
            "\n",
            "Final Specific_Hypothesis:\n",
            "['sunny' 'warm' '?' 'strong' '?' '?']\n",
            "Final General_Hypothesis:\n",
            "[['sunny', '?', '?', '?', '?', '?'], ['?', 'warm', '?', '?', '?', '?']]\n"
          ]
        }
      ]
    },
    {
      "cell_type": "markdown",
      "source": [],
      "metadata": {
        "id": "aqNgLzw7oSII"
      }
    }
  ]
}