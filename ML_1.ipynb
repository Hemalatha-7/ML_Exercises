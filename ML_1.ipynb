{
  "nbformat": 4,
  "nbformat_minor": 0,
  "metadata": {
    "colab": {
      "provenance": []
    },
    "kernelspec": {
      "name": "python3",
      "display_name": "Python 3"
    },
    "language_info": {
      "name": "python"
    }
  },
  "cells": [
    {
      "cell_type": "code",
      "execution_count": 4,
      "metadata": {
        "colab": {
          "base_uri": "https://localhost:8080/"
        },
        "id": "DHyRvb9Df9ai",
        "outputId": "4abecbeb-d33f-427f-a679-59caa093f2cc"
      },
      "outputs": [
        {
          "output_type": "stream",
          "name": "stdout",
          "text": [
            "     sky air temp humidity    wind water forecast enjoy sport\n",
            "0  sunny     warm   normal  strong  warm     same         yes\n",
            "1  sunny     warm     high  strong  warm     same         yes\n",
            "2  rainy     cold     high  strong  warm   change          no\n",
            "3  sunny     warm     high  strong  cool   change         yes n\n",
            "n the attributes are: [['sunny' 'warm' 'normal' 'strong' 'warm' 'same']\n",
            " ['sunny' 'warm' 'high' 'strong' 'warm' 'same']\n",
            " ['rainy' 'cold' 'high' 'strong' 'warm' 'change']\n",
            " ['sunny' 'warm' 'high' 'strong' 'cool' 'change']]\n",
            "n the target is: ['yes' 'yes' 'no' 'yes']\n",
            "['sunny' 'warm' '?' 'strong' 'warm' 'same']\n",
            "['sunny' 'warm' '?' 'strong' 'warm' 'same']\n",
            "['sunny' 'warm' '?' 'strong' '?' 'same']\n",
            "['sunny' 'warm' '?' 'strong' '?' '?']\n"
          ]
        }
      ],
      "source": [
        "import pandas as pd\n",
        "import numpy as np\n",
        "data=pd.read_csv(\"/content/data (3).csv\")\n",
        "print(data,\"n\")\n",
        "d=np.array(data)[:,:-1]\n",
        "print(\"n the attributes are:\",d)\n",
        "target=np.array(data)[:,-1]\n",
        "print(\"n the target is:\",target)\n",
        "for i,val in enumerate(target):\n",
        "  if val==\"yes\":\n",
        "    specific_hypothesis=d[i].copy()\n",
        "    break\n",
        "    print(specific_hypothesis)\n",
        "for i,val in enumerate(d):\n",
        "  if target[i]==\"yes\":\n",
        "    for x in range(len(specific_hypothesis)):\n",
        "      if(val[x]!=specific_hypothesis[x]):\n",
        "        specific_hypothesis[x]='?'\n",
        "        print(specific_hypothesis)"
      ]
    }
  ]
}